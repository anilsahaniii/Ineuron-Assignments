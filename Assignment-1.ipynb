{
 "cells": [
  {
   "cell_type": "markdown",
   "id": "784255d5",
   "metadata": {},
   "source": [
    "1 . In the below elements which of them are values or an expression? eg:- values can be integer or string and expressions will be mathematical operators."
   ]
  },
  {
   "cell_type": "code",
   "execution_count": null,
   "id": "f2d9f5df",
   "metadata": {},
   "outputs": [],
   "source": [
    "* = expression\n",
    "'hello' = value\n",
    "-87.8 = values\n",
    "- = expression\n",
    "/ = expression\n",
    "+ = expression\n",
    "6 = value"
   ]
  },
  {
   "cell_type": "markdown",
   "id": "5c14f94e",
   "metadata": {},
   "source": [
    "2 . What is the difference between string and variable?"
   ]
  },
  {
   "cell_type": "code",
   "execution_count": null,
   "id": "5077cb25",
   "metadata": {},
   "outputs": [],
   "source": [
    "Varible is used to store data  while string is itself a datatype which can be stored in a variable."
   ]
  },
  {
   "cell_type": "markdown",
   "id": "74f1e0fe",
   "metadata": {},
   "source": [
    "3. Describe three different data types."
   ]
  },
  {
   "cell_type": "code",
   "execution_count": null,
   "id": "3c248ba9",
   "metadata": {},
   "outputs": [],
   "source": [
    "String -  String is a datatype which is used to record text information. It is created by using single quote or double quote. It's immutable.\n",
    "\n",
    "\n",
    "list = List is a data type which is used to store mutiple items by using the syntax '[]',inside this bracket we can store any datatype like string,number,tuple. It's mutable.\n",
    "\n",
    "Dictionary - It's a data type which is used to store data in key:value pairs. Example:- dict = {key:value}"
   ]
  },
  {
   "cell_type": "markdown",
   "id": "4b452dcd",
   "metadata": {},
   "source": [
    "4. What is an expression made up of ? What do all expressions do ?"
   ]
  },
  {
   "cell_type": "code",
   "execution_count": null,
   "id": "c41ee76c",
   "metadata": {},
   "outputs": [],
   "source": [
    "It is made up of operators and operands by combine it to perfrom task. They perform task and produce value as output or result. "
   ]
  },
  {
   "cell_type": "markdown",
   "id": "322c6997",
   "metadata": {},
   "source": [
    "5. This assignment statements, like spam = 10. What is the difference between an expression and a statement?"
   ]
  },
  {
   "cell_type": "raw",
   "id": "dedd5d01",
   "metadata": {},
   "source": [
    "An expression is used to perfrom operations and produce a result and a statement is like used to represent that result."
   ]
  },
  {
   "cell_type": "markdown",
   "id": "c01a38cb",
   "metadata": {},
   "source": [
    "6. After running the following code, what does the variable bacon contain?\n",
    "bacon = 22\n",
    "bacon + 1\n"
   ]
  },
  {
   "cell_type": "raw",
   "id": "1872ed22",
   "metadata": {},
   "source": [
    "bacon will contain it's initial value that's assigned 22."
   ]
  },
  {
   "cell_type": "markdown",
   "id": "9c0d5470",
   "metadata": {},
   "source": [
    "7. What should the values of the following two terms be?\n",
    "'spam' + 'spamspam'\n",
    "'spam' * 3\n"
   ]
  },
  {
   "cell_type": "raw",
   "id": "5bd9034f",
   "metadata": {},
   "source": [
    "'spamspamspam'"
   ]
  },
  {
   "cell_type": "markdown",
   "id": "ae6bb6c7",
   "metadata": {},
   "source": [
    "8. Why is eggs a valid variable name while 100 is invalid?"
   ]
  },
  {
   "cell_type": "raw",
   "id": "8bd26c25",
   "metadata": {},
   "source": [
    "Because we can't assign variable name with a number. Variable name should start with alphabets."
   ]
  },
  {
   "cell_type": "markdown",
   "id": "05c5b209",
   "metadata": {},
   "source": [
    "9. What three functions can be used to get the integer, floating-point number, or string version of a value?"
   ]
  },
  {
   "cell_type": "raw",
   "id": "0cabf8dd",
   "metadata": {},
   "source": [
    "int(),float(),str()"
   ]
  },
  {
   "cell_type": "markdown",
   "id": "69b5be4b",
   "metadata": {},
   "source": [
    "10. Why does this expression cause an error? How can you fix it? \n",
    "'I have eaten ' + 99 + ' burritos.'"
   ]
  },
  {
   "cell_type": "raw",
   "id": "3264961e",
   "metadata": {},
   "source": [
    "It's because we can't concatenate interger to a string. It has to be same data type to concatenate it."
   ]
  }
 ],
 "metadata": {
  "kernelspec": {
   "display_name": "Python 3 (ipykernel)",
   "language": "python",
   "name": "python3"
  },
  "language_info": {
   "codemirror_mode": {
    "name": "ipython",
    "version": 3
   },
   "file_extension": ".py",
   "mimetype": "text/x-python",
   "name": "python",
   "nbconvert_exporter": "python",
   "pygments_lexer": "ipython3",
   "version": "3.9.12"
  }
 },
 "nbformat": 4,
 "nbformat_minor": 5
}
