{
 "cells": [
  {
   "cell_type": "markdown",
   "id": "2543f330",
   "metadata": {},
   "source": [
    "1. What are the two values of the Boolean data type? How do you write them?"
   ]
  },
  {
   "cell_type": "markdown",
   "id": "f42b050b",
   "metadata": {},
   "source": [
    "True and False are the two values of the Boolean data type. We write the first letter of both word in capital letter. \n",
    "Exapmle - True , False"
   ]
  },
  {
   "cell_type": "markdown",
   "id": "a819480e",
   "metadata": {},
   "source": [
    "2. What are the three different types of Boolean operators?"
   ]
  },
  {
   "cell_type": "markdown",
   "id": "26373874",
   "metadata": {},
   "source": [
    "and,or,not"
   ]
  },
  {
   "cell_type": "markdown",
   "id": "64167915",
   "metadata": {},
   "source": [
    "3. Make a list of each Boolean operator's truth tables (i.e. every possible combination of Boolean values for the operator and what it evaluate )."
   ]
  },
  {
   "cell_type": "markdown",
   "id": "4079fc23",
   "metadata": {},
   "source": [
    "True and True = True\n",
    "\n",
    "True and False = False\n",
    "\n",
    "False and True = False\n",
    "\n",
    "False and False = False\n",
    "\n",
    "True or True = True\n",
    "\n",
    "True or False = True\n",
    "\n",
    "False or True = True\n",
    "\n",
    "False or False = False\n",
    "\n",
    "not True = False\n",
    "\n",
    "not False = True"
   ]
  },
  {
   "cell_type": "markdown",
   "id": "4dd8a89a",
   "metadata": {},
   "source": [
    "4. What are the values of the following expressions?\n",
    "\n",
    "(5 > 4) and (3 == 5)\n",
    "\n",
    "not (5 > 4)\n",
    "\n",
    "(5 > 4) or (3 == 5)\n",
    "\n",
    "not ((5 > 4) or (3 == 5))\n",
    "\n",
    "(True and True) and (True == False)\n",
    "\n",
    "(not False) or (not True)"
   ]
  },
  {
   "cell_type": "markdown",
   "id": "3d19f49d",
   "metadata": {},
   "source": [
    "Answers:-\n",
    "\n",
    "(5 > 4) and (3 == 5)  Answer :- False\n",
    "\n",
    "not (5 > 4)  Answer :- False\n",
    "\n",
    "(5 > 4) or (3 == 5)  Answer :- True\n",
    "\n",
    "not ((5 > 4) or (3 == 5))  Answer :- False\n",
    "\n",
    "(True and True) and (True == False)  Answer :- False\n",
    "\n",
    "(not False) or (not True)  Answer :- True"
   ]
  },
  {
   "cell_type": "markdown",
   "id": "fe90e2b8",
   "metadata": {},
   "source": [
    "5. What are the six comparison operators?"
   ]
  },
  {
   "cell_type": "markdown",
   "id": "45ffba03",
   "metadata": {},
   "source": [
    "' == '\n",
    "\n",
    "' != '\n",
    "\n",
    "' > '\n",
    "\n",
    "' < '\n",
    "\n",
    "' <= '\n",
    "\n",
    "' >= '"
   ]
  },
  {
   "cell_type": "markdown",
   "id": "45e3ed84",
   "metadata": {},
   "source": [
    "6. How do you tell the difference between the equal to and assignment operators?Describe a condition and when you would use one."
   ]
  },
  {
   "cell_type": "markdown",
   "id": "7e167fbe",
   "metadata": {},
   "source": [
    "'==' is equal to operator,it is a comaparion operators that comapare two values than return booleean value. '='is an assigmnent operator which is used to store values in a variable"
   ]
  },
  {
   "cell_type": "markdown",
   "id": "a2f35dd4",
   "metadata": {},
   "source": [
    "7. Identify the three blocks in this code:\n",
    "spam = 0\n",
    "\n",
    "if spam == 10:\n",
    "\n",
    "print('eggs')\n",
    "\n",
    "if spam > 5:\n",
    "\n",
    "print('bacon')\n",
    "\n",
    "else:\n",
    "\n",
    "print('ham')\n",
    "\n",
    "print('spam')\n",
    "\n",
    "print('spam')"
   ]
  },
  {
   "cell_type": "markdown",
   "id": "76121992",
   "metadata": {},
   "source": [
    "Answer:- the three blocks in this code are after if statment two times and in else statement there is identation error. In the next line after statmentment we can press tab button to fix it. "
   ]
  },
  {
   "cell_type": "markdown",
   "id": "c143c111",
   "metadata": {},
   "source": [
    "8. Write code that prints Hello if 1 is stored in spam, prints Howdy if 2 is stored in spam, and prints Greetings! if anything else is stored in spam."
   ]
  },
  {
   "cell_type": "code",
   "execution_count": null,
   "id": "38ff5696",
   "metadata": {},
   "outputs": [],
   "source": [
    "if spam == 1:\n",
    "    print(\"Hello\")\n",
    "elif spam == 2:\n",
    "    print(\"Howdy\")\n",
    "else:\n",
    "    print(\"Greetings!\")"
   ]
  },
  {
   "cell_type": "markdown",
   "id": "50b0d554",
   "metadata": {},
   "source": [
    "9. If your programme is stuck in an endless loop, what keys you’ll press?"
   ]
  },
  {
   "cell_type": "markdown",
   "id": "3aa81731",
   "metadata": {},
   "source": [
    "By interrupting the kernel or restarting the kernel. Or we can press control+c keys"
   ]
  },
  {
   "cell_type": "markdown",
   "id": "10f44068",
   "metadata": {},
   "source": [
    "10. How can you tell the difference between break and continue?"
   ]
  },
  {
   "cell_type": "markdown",
   "id": "b183cd98",
   "metadata": {},
   "source": [
    "Break statement ends the current loop and continue will end the current iteration and continues to the next iteration"
   ]
  },
  {
   "cell_type": "markdown",
   "id": "7b3e7f3d",
   "metadata": {},
   "source": [
    "11. In a for loop, what is the difference between range(10), range(0, 10), and range(0, 10, 1)?"
   ]
  },
  {
   "cell_type": "markdown",
   "id": "4c94fb35",
   "metadata": {},
   "source": [
    "they all will return the same value,range(10) will return the sequence from 0 by default to 9,range(0, 10) will return the sequence starting from 0 and end before 10, range(0, 10, 1) will return return sequence of numbers starting from 0,incrementing by 1 (step size is given 1), to 9 because it ends before specified number."
   ]
  },
  {
   "cell_type": "markdown",
   "id": "d839bb90",
   "metadata": {},
   "source": [
    "12. Write a short program that prints the numbers 1 to 10 using a for loop. Then write an equivalent program that prints the numbers 1 to 10 using a while loop."
   ]
  },
  {
   "cell_type": "code",
   "execution_count": null,
   "id": "10ced33d",
   "metadata": {},
   "outputs": [],
   "source": [
    "#using for loop\n",
    "for i in range(1,11):\n",
    "    print(i)"
   ]
  },
  {
   "cell_type": "code",
   "execution_count": null,
   "id": "42e8cd7f",
   "metadata": {},
   "outputs": [],
   "source": [
    "#using while loop\n",
    "i = 1\n",
    "while i <= 10:\n",
    "    print(i)\n",
    "    i += 1"
   ]
  },
  {
   "cell_type": "markdown",
   "id": "77d5fb3d",
   "metadata": {},
   "source": [
    "13. If you had a function named bacon() inside a module named spam, how would you call it after importing spam?"
   ]
  },
  {
   "cell_type": "code",
   "execution_count": null,
   "id": "29cdcc45",
   "metadata": {},
   "outputs": [],
   "source": [
    "spam.bacon()"
   ]
  },
  {
   "cell_type": "code",
   "execution_count": null,
   "id": "b7719986",
   "metadata": {},
   "outputs": [],
   "source": []
  }
 ],
 "metadata": {
  "kernelspec": {
   "display_name": "Python 3 (ipykernel)",
   "language": "python",
   "name": "python3"
  },
  "language_info": {
   "codemirror_mode": {
    "name": "ipython",
    "version": 3
   },
   "file_extension": ".py",
   "mimetype": "text/x-python",
   "name": "python",
   "nbconvert_exporter": "python",
   "pygments_lexer": "ipython3",
   "version": "3.9.13"
  }
 },
 "nbformat": 4,
 "nbformat_minor": 5
}
