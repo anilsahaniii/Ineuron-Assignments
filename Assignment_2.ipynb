{
 "cells": [
  {
   "cell_type": "markdown",
   "id": "1da4d947",
   "metadata": {},
   "source": [
    "1. What are the two values of the Boolean data type? How do you write them?"
   ]
  },
  {
   "cell_type": "raw",
   "id": "7de439ab",
   "metadata": {},
   "source": [
    "True and False are the two values of the Boolean data type. We write the first letter of both word in capital letter. \n",
    "Exapmle - True , False"
   ]
  },
  {
   "cell_type": "markdown",
   "id": "27653be9",
   "metadata": {},
   "source": [
    "2. What are the three different types of Boolean operators?"
   ]
  },
  {
   "cell_type": "raw",
   "id": "0791375c",
   "metadata": {},
   "source": [
    "and,or,not"
   ]
  },
  {
   "cell_type": "markdown",
   "id": "3b2f648e",
   "metadata": {},
   "source": [
    "3. Make a list of each Boolean operator's truth tables (i.e. every possible combination of Boolean values for the operator and what it evaluate )."
   ]
  },
  {
   "cell_type": "raw",
   "id": "08ffdff4",
   "metadata": {},
   "source": [
    "True and True = True\n",
    "True and False = False\n",
    "False and True = False\n",
    "False and False = False\n",
    "True or True = True\n",
    "True or False = True\n",
    "False or True = True\n",
    "False or False = False\n",
    "not True = False\n",
    "not False = True"
   ]
  },
  {
   "cell_type": "raw",
   "id": "9a04cd43",
   "metadata": {},
   "source": [
    "4. What are the values of the following expressions?\n",
    "(5 > 4) and (3 == 5)\n",
    "not (5 > 4)\n",
    "(5 > 4) or (3 == 5)\n",
    "not ((5 > 4) or (3 == 5))\n",
    "(True and True) and (True == False)\n",
    "(not False) or (not True)"
   ]
  },
  {
   "cell_type": "raw",
   "id": "b75ae4a4",
   "metadata": {},
   "source": [
    "(5 > 4) and (3 == 5) Answer :- False\n",
    "not (5 > 4) Answer :- False\n",
    "(5 > 4) or (3 == 5) Answer :- True\n",
    "not ((5 > 4) or (3 == 5)) Answer :- False\n",
    "(True and True) and (True == False) Answer :- False\n",
    "(not False) or (not True) Answer :- True"
   ]
  },
  {
   "cell_type": "markdown",
   "id": "60fea39e",
   "metadata": {},
   "source": [
    "5. What are the six comparison operators?"
   ]
  },
  {
   "cell_type": "raw",
   "id": "45dd003e",
   "metadata": {},
   "source": [
    "==\n",
    "!=\n",
    ">\n",
    "<\n",
    "<=\n",
    ">="
   ]
  },
  {
   "cell_type": "markdown",
   "id": "7784f6a3",
   "metadata": {},
   "source": [
    "6. How do you tell the difference between the equal to and assignment operators?Describe a condition and when you would use one."
   ]
  },
  {
   "cell_type": "raw",
   "id": "78148cf8",
   "metadata": {},
   "source": [
    "'==' is equal to operator,it is a comaparion operators that comapare two values than return booleean value. '='is an assigmnent operator which is used to store values in a variable"
   ]
  },
  {
   "cell_type": "raw",
   "id": "a04ef4ed",
   "metadata": {},
   "source": [
    "7. Identify the three blocks in this code:\n",
    "spam = 0\n",
    "if spam == 10:\n",
    "print('eggs')\n",
    "if spam > 5:\n",
    "print('bacon')\n",
    "else:\n",
    "print('ham')\n",
    "print('spam')\n",
    "print('spam')"
   ]
  },
  {
   "cell_type": "raw",
   "id": "3dc0149b",
   "metadata": {},
   "source": [
    "the three blocks in this code are after if statment two times and in else statement there is identation error. In the next line after statmentment we can press tab button to fix it. "
   ]
  },
  {
   "cell_type": "markdown",
   "id": "625970a4",
   "metadata": {},
   "source": [
    "8. Write code that prints Hello if 1 is stored in spam, prints Howdy if 2 is stored in spam, and prints Greetings! if anything else is stored in spam."
   ]
  },
  {
   "cell_type": "code",
   "execution_count": null,
   "id": "38ff5696",
   "metadata": {},
   "outputs": [],
   "source": [
    "if spam == 1:\n",
    "    print(\"Hello\")\n",
    "elif spam == 2:\n",
    "    print(\"Howdy\")\n",
    "else:\n",
    "    print(\"Greetings!\")"
   ]
  },
  {
   "cell_type": "markdown",
   "id": "98a99adc",
   "metadata": {},
   "source": [
    "9. If your programme is stuck in an endless loop, what keys you’ll press?"
   ]
  },
  {
   "cell_type": "raw",
   "id": "f9d6bf3e",
   "metadata": {},
   "source": [
    "By interrupting the kernel or restarting the kernel. Or we can press control+c keys"
   ]
  },
  {
   "cell_type": "markdown",
   "id": "34e58eeb",
   "metadata": {},
   "source": [
    "10. How can you tell the difference between break and continue?"
   ]
  },
  {
   "cell_type": "raw",
   "id": "b70f3ba1",
   "metadata": {},
   "source": [
    "Break statement ends the current loop and continue will end the current iteration and continues to the next iteration"
   ]
  },
  {
   "cell_type": "markdown",
   "id": "ce53731f",
   "metadata": {},
   "source": [
    "11. In a for loop, what is the difference between range(10), range(0, 10), and range(0, 10, 1)?"
   ]
  },
  {
   "cell_type": "raw",
   "id": "d1b09a01",
   "metadata": {},
   "source": [
    "they all will return the same value,range(10) will return the sequence from 0 by default to 9,range(0, 10) will return the sequence starting from 0 and end before 10, range(0, 10, 1) will return return sequence of numbers starting from 0,incrementing by 1 (step size is given 1), to 9 because it ends before specified number."
   ]
  },
  {
   "cell_type": "markdown",
   "id": "71a403e0",
   "metadata": {},
   "source": [
    "12. Write a short program that prints the numbers 1 to 10 using a for loop. Then write an equivalent program that prints the numbers 1 to 10 using a while loop."
   ]
  },
  {
   "cell_type": "code",
   "execution_count": null,
   "id": "10ced33d",
   "metadata": {},
   "outputs": [],
   "source": [
    "#using for loop\n",
    "for i in range(1,11):\n",
    "    print(i)"
   ]
  },
  {
   "cell_type": "code",
   "execution_count": null,
   "id": "42e8cd7f",
   "metadata": {},
   "outputs": [],
   "source": [
    "#using while loop\n",
    "i = 1\n",
    "while i <= 10:\n",
    "    print(i)\n",
    "    i += 1"
   ]
  },
  {
   "cell_type": "markdown",
   "id": "50fdef8a",
   "metadata": {},
   "source": [
    "13. If you had a function named bacon() inside a module named spam, how would you call it after importing spam?"
   ]
  },
  {
   "cell_type": "code",
   "execution_count": null,
   "id": "fd5a0744",
   "metadata": {},
   "outputs": [],
   "source": [
    "spam.bacon()"
   ]
  }
 ],
 "metadata": {
  "kernelspec": {
   "display_name": "Python 3 (ipykernel)",
   "language": "python",
   "name": "python3"
  },
  "language_info": {
   "codemirror_mode": {
    "name": "ipython",
    "version": 3
   },
   "file_extension": ".py",
   "mimetype": "text/x-python",
   "name": "python",
   "nbconvert_exporter": "python",
   "pygments_lexer": "ipython3",
   "version": "3.9.13"
  }
 },
 "nbformat": 4,
 "nbformat_minor": 5
}
