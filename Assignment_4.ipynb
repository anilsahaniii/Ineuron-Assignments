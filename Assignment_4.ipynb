{
 "cells": [
  {
   "cell_type": "markdown",
   "id": "13e56fca",
   "metadata": {},
   "source": [
    "1. What exactly is [ ]?"
   ]
  },
  {
   "cell_type": "markdown",
   "id": "ab59846d",
   "metadata": {},
   "source": [
    "empty list. It contains no items"
   ]
  },
  {
   "cell_type": "markdown",
   "id": "cbb258f3",
   "metadata": {},
   "source": [
    "2. In a list of values stored in a variable called spam, how would you assign the value 'hello' as the third value? (Assume [2, 4, 6, 8, 10] are in spam.)"
   ]
  },
  {
   "cell_type": "markdown",
   "id": "cc91abf3",
   "metadata": {},
   "source": [
    "spam[2] = 'hello'"
   ]
  },
  {
   "cell_type": "markdown",
   "id": "ab4f7df3",
   "metadata": {},
   "source": [
    "* Let's pretend the spam includes the list ['a', 'b', 'c', 'd'] for the next three queries."
   ]
  },
  {
   "cell_type": "markdown",
   "id": "619f38f4",
   "metadata": {},
   "source": [
    "3. What is the value of spam[int(int('3' * 2) / 11)]?"
   ]
  },
  {
   "cell_type": "markdown",
   "id": "c0a0ecb8",
   "metadata": {},
   "source": [
    "'d'"
   ]
  },
  {
   "cell_type": "markdown",
   "id": "d13d7c46",
   "metadata": {},
   "source": [
    "4. What is the value of spam[-1]?"
   ]
  },
  {
   "cell_type": "markdown",
   "id": "8ab92d88",
   "metadata": {},
   "source": [
    "'d'"
   ]
  },
  {
   "cell_type": "markdown",
   "id": "0a48de1a",
   "metadata": {},
   "source": [
    "5. What is the value of spam[:2]?"
   ]
  },
  {
   "cell_type": "markdown",
   "id": "ffd09a65",
   "metadata": {},
   "source": [
    "['a', 'b']"
   ]
  },
  {
   "cell_type": "markdown",
   "id": "8fcba73e",
   "metadata": {},
   "source": [
    "* Let's pretend bacon has the list [3.14, 'cat', 11, 'cat', True] for the next three questions."
   ]
  },
  {
   "cell_type": "markdown",
   "id": "44c56e21",
   "metadata": {},
   "source": [
    "6. What is the value of bacon.index('cat')?"
   ]
  },
  {
   "cell_type": "markdown",
   "id": "a18f890f",
   "metadata": {},
   "source": [
    "1"
   ]
  },
  {
   "cell_type": "markdown",
   "id": "35b25918",
   "metadata": {},
   "source": [
    "7. How does bacon.append(99) change the look of the list value in bacon?"
   ]
  },
  {
   "cell_type": "markdown",
   "id": "1a801587",
   "metadata": {},
   "source": [
    "append method add an element at the end of the list.\n",
    "bacon.append(99)\n",
    "output will be [3.14, 'cat', 11, 'cat', True, 99]"
   ]
  },
  {
   "cell_type": "markdown",
   "id": "fd268386",
   "metadata": {},
   "source": [
    "8. How does bacon.remove('cat') change the look of the list in bacon?"
   ]
  },
  {
   "cell_type": "markdown",
   "id": "d10c0c29",
   "metadata": {},
   "source": [
    "bacon.remove(\"cat\") will remove the element \"cat\" that appreared first in the list bacon\n",
    "\n",
    "bacon.remove('cat')\n",
    "\n",
    "output will be = [3.14, 11, 'cat', True]\n"
   ]
  },
  {
   "cell_type": "markdown",
   "id": "c9484eed",
   "metadata": {},
   "source": [
    "9. What are the list concatenation and list replication operators?"
   ]
  },
  {
   "cell_type": "markdown",
   "id": "15c28082",
   "metadata": {},
   "source": [
    "list concatenation operator is +,it used to concatenate lists,list replication operator is * , it is used to replicate list."
   ]
  },
  {
   "cell_type": "markdown",
   "id": "a62f1bfc",
   "metadata": {},
   "source": [
    "10. What is difference between the list methods append() and insert()?"
   ]
  },
  {
   "cell_type": "markdown",
   "id": "17bc254c",
   "metadata": {},
   "source": [
    "append() method will add an object at the end of the list while insert() method will add an object at specified index. "
   ]
  },
  {
   "cell_type": "markdown",
   "id": "1665a439",
   "metadata": {},
   "source": [
    "11. What are the two methods for removing items from a list?"
   ]
  },
  {
   "cell_type": "markdown",
   "id": "e866f2ce",
   "metadata": {},
   "source": [
    "remove() and pop() methods will remove item from list,pop will remove item by writing index postion, in remove we will have to write the value which we want remove."
   ]
  },
  {
   "cell_type": "markdown",
   "id": "3c503688",
   "metadata": {},
   "source": [
    "12. Describe how list values and string values are identical."
   ]
  },
  {
   "cell_type": "markdown",
   "id": "6cf5a614",
   "metadata": {},
   "source": [
    "they are iterable, slicing and indexing can be done, we can use loops in both, we can do concatenation and replication."
   ]
  },
  {
   "cell_type": "markdown",
   "id": "b3393e4d",
   "metadata": {},
   "source": [
    "13. What's the difference between tuples and lists?"
   ]
  },
  {
   "cell_type": "markdown",
   "id": "c926baed",
   "metadata": {},
   "source": [
    "Tuples are immutable and lists are mutable. Mutable means we can change the element inside defined list.\n",
    "Tuples are written using parentheses like (tuple) and list using sqaure bracket like [list]."
   ]
  },
  {
   "cell_type": "markdown",
   "id": "cedcda1a",
   "metadata": {},
   "source": [
    "14. How do you type a tuple value that only contains the integer 42?"
   ]
  },
  {
   "cell_type": "markdown",
   "id": "62f61115",
   "metadata": {},
   "source": [
    "if a tuple is containing only one value, then we can add an comma after writing the value, so that it can be treated as tuple othwerwise it will be treated as an integer.\n",
    "\n",
    "t = (42,)"
   ]
  },
  {
   "cell_type": "markdown",
   "id": "7def5a67",
   "metadata": {},
   "source": [
    "15. How do you get a list value's tuple form? How do you get a tuple value's list form?"
   ]
  },
  {
   "cell_type": "markdown",
   "id": "f89008e5",
   "metadata": {},
   "source": [
    "by using tuple() and list() function"
   ]
  },
  {
   "cell_type": "markdown",
   "id": "97d735b0",
   "metadata": {},
   "source": [
    "16. Variables that \"contain\" list values are not necessarily lists themselves. Instead, what do they contain?"
   ]
  },
  {
   "cell_type": "markdown",
   "id": "cb5cf45f",
   "metadata": {},
   "source": [
    "they contain reference of list values."
   ]
  },
  {
   "cell_type": "markdown",
   "id": "58a388a0",
   "metadata": {},
   "source": [
    "17. How do you distinguish between copy.copy() and copy.deepcopy()?"
   ]
  },
  {
   "cell_type": "markdown",
   "id": "0e82f752",
   "metadata": {},
   "source": [
    "copy.copy() will create shallow copy of list,copy.deepcopy() will create deep copy of list,deepcopy will copy the nested list too."
   ]
  }
 ],
 "metadata": {
  "kernelspec": {
   "display_name": "Python 3 (ipykernel)",
   "language": "python",
   "name": "python3"
  },
  "language_info": {
   "codemirror_mode": {
    "name": "ipython",
    "version": 3
   },
   "file_extension": ".py",
   "mimetype": "text/x-python",
   "name": "python",
   "nbconvert_exporter": "python",
   "pygments_lexer": "ipython3",
   "version": "3.9.13"
  }
 },
 "nbformat": 4,
 "nbformat_minor": 5
}
