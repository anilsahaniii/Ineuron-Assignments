{
 "cells": [
  {
   "cell_type": "markdown",
   "id": "2f4385f9",
   "metadata": {},
   "source": [
    "1. What does an empty dictionary's code look like?"
   ]
  },
  {
   "cell_type": "markdown",
   "id": "93c8104e",
   "metadata": {},
   "source": [
    "dictionary = {}"
   ]
  },
  {
   "cell_type": "markdown",
   "id": "7a82193b",
   "metadata": {},
   "source": [
    "2. What is the value of a dictionary value with the key 'foo' and the value 42?"
   ]
  },
  {
   "cell_type": "code",
   "execution_count": 1,
   "id": "4a31c799",
   "metadata": {},
   "outputs": [
    {
     "data": {
      "text/plain": [
       "{'foo': 42}"
      ]
     },
     "execution_count": 1,
     "metadata": {},
     "output_type": "execute_result"
    }
   ],
   "source": [
    "{'foo':42}"
   ]
  },
  {
   "cell_type": "markdown",
   "id": "ae066d59",
   "metadata": {},
   "source": [
    "3. What is the most significant distinction between a dictionary and a list?"
   ]
  },
  {
   "cell_type": "markdown",
   "id": "7da173b6",
   "metadata": {},
   "source": [
    "The elements inside the dictionary are unordered and elements inside list are ordered"
   ]
  },
  {
   "cell_type": "markdown",
   "id": "25028bbb",
   "metadata": {},
   "source": [
    "4. What happens if you try to access spam['foo'] if spam is {'bar': 100}?"
   ]
  },
  {
   "cell_type": "markdown",
   "id": "f5fd4003",
   "metadata": {},
   "source": [
    "It will show KeyError."
   ]
  },
  {
   "cell_type": "markdown",
   "id": "9e5b4187",
   "metadata": {},
   "source": [
    "5. If a dictionary is stored in spam, what is the difference between the expressions 'cat' in spam and 'cat' in spam.keys()?"
   ]
  },
  {
   "cell_type": "markdown",
   "id": "ad1c8f20",
   "metadata": {},
   "source": [
    "There is no difference beacuse 'cat' in spam and 'cat' in spam.keys checks whether 'cat' key is present in a dictionary or not and returns boolean as output"
   ]
  },
  {
   "cell_type": "markdown",
   "id": "1ca5f0ae",
   "metadata": {},
   "source": [
    "6. If a dictionary is stored in spam, what is the difference between the expressions 'cat' in spam and 'cat' in spam.values()?"
   ]
  },
  {
   "cell_type": "markdown",
   "id": "2ff5dbcd",
   "metadata": {},
   "source": [
    "'cat' in spam checks if there is key with name 'cat' is present or not in a dictionary while 'cat' in spam.values checks if any key has value 'cat' in it's value inside a dictionary."
   ]
  },
  {
   "cell_type": "markdown",
   "id": "dd37b965",
   "metadata": {},
   "source": [
    "7. What is a shortcut for the following code?\n",
    "\n",
    "if 'color' not in spam:\n",
    "\n",
    "spam['color'] = 'black'"
   ]
  },
  {
   "cell_type": "markdown",
   "id": "1a65ea1e",
   "metadata": {},
   "source": [
    "ANSWER:- \n",
    "\n",
    "    spam.set_default('color','black')"
   ]
  },
  {
   "cell_type": "markdown",
   "id": "b1d0d5e1",
   "metadata": {},
   "source": [
    "8. How do you \"pretty print\" dictionary values using which module and function?"
   ]
  },
  {
   "cell_type": "markdown",
   "id": "37d48445",
   "metadata": {},
   "source": [
    "using pprint module and pprint() function\n",
    "\n",
    "Example- pprint.pprint()"
   ]
  }
 ],
 "metadata": {
  "kernelspec": {
   "display_name": "Python 3 (ipykernel)",
   "language": "python",
   "name": "python3"
  },
  "language_info": {
   "codemirror_mode": {
    "name": "ipython",
    "version": 3
   },
   "file_extension": ".py",
   "mimetype": "text/x-python",
   "name": "python",
   "nbconvert_exporter": "python",
   "pygments_lexer": "ipython3",
   "version": "3.9.13"
  }
 },
 "nbformat": 4,
 "nbformat_minor": 5
}
